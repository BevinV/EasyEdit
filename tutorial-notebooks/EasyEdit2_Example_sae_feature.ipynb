{
 "cells": [
  {
   "cell_type": "code",
   "execution_count": 2,
   "metadata": {},
   "outputs": [
    {
     "name": "stderr",
     "output_type": "stream",
     "text": [
      "/mnt/20t/xkw/anaconda3/envs/EasySteer/lib/python3.10/site-packages/tqdm/auto.py:21: TqdmWarning: IProgress not found. Please update jupyter and ipywidgets. See https://ipywidgets.readthedocs.io/en/stable/user_install.html\n",
      "  from .autonotebook import tqdm as notebook_tqdm\n"
     ]
    }
   ],
   "source": [
    "import sys\n",
    "sys.path.append('..')\n",
    "from omegaconf import OmegaConf, DictConfig\n",
    "from steer.vector_generators.sae_feature import search_for_explanations, get_feature_description\n",
    "# os.environ[\"NP_API_KEY\"] = \"your_neuronpedia_api_key_here\"\n",
    "modelId = 'gemma-2-9b'\n",
    "saeId = '24-gemmascope-res-16k'"
   ]
  },
  {
   "cell_type": "markdown",
   "metadata": {},
   "source": [
    "### Get Feature Fescriptions"
   ]
  },
  {
   "cell_type": "code",
   "execution_count": 3,
   "metadata": {},
   "outputs": [
    {
     "name": "stdout",
     "output_type": "stream",
     "text": [
      "Feature ID: 0, Description:  structured data or code blocks in programming-related documents, ExplanationModelName: None\n",
      "Feature ID: 1, Description:  elements and functions related to building and managing software components, specifically in programming contexts, ExplanationModelName: None\n",
      "Feature ID: 2, Description:  java data structure imports and declarations, ExplanationModelName: None\n",
      "Feature ID: 3, Description:  phrases that refer to specific concepts or examples, ExplanationModelName: None\n",
      "Feature ID: 4, Description: technical terms related to mathematical equations and concepts, ExplanationModelName: None\n",
      "Feature ID: 5, Description: references to specific countries and regions, particularly in relation to commerce and cultural aspects, ExplanationModelName: None\n",
      "Feature ID: 6, Description:  terms and concepts related to passive and active processes or states, ExplanationModelName: None\n",
      "Feature ID: 7, Description:  monetary symbols and related code syntax, ExplanationModelName: None\n",
      "Feature ID: 8, Description: structured information and references related to data, such as cases, observations, and features in various contexts, ExplanationModelName: None\n",
      "Feature ID: 9, Description: regulatory language related to occupational safety and health, ExplanationModelName: None\n"
     ]
    },
    {
     "data": {
      "text/plain": [
       "{0: [{'modelId': 'gemma-2-9b',\n",
       "   'layer': '24-gemmascope-res-16k',\n",
       "   'feature_id': 0,\n",
       "   'description': ' structured data or code blocks in programming-related documents',\n",
       "   'explanationModelName': None,\n",
       "   'typeName': 'oai_token-act-pair'}],\n",
       " 1: [{'modelId': 'gemma-2-9b',\n",
       "   'layer': '24-gemmascope-res-16k',\n",
       "   'feature_id': 1,\n",
       "   'description': ' elements and functions related to building and managing software components, specifically in programming contexts',\n",
       "   'explanationModelName': None,\n",
       "   'typeName': 'oai_token-act-pair'}],\n",
       " 2: [{'modelId': 'gemma-2-9b',\n",
       "   'layer': '24-gemmascope-res-16k',\n",
       "   'feature_id': 2,\n",
       "   'description': ' java data structure imports and declarations',\n",
       "   'explanationModelName': None,\n",
       "   'typeName': 'oai_token-act-pair'}],\n",
       " 3: [{'modelId': 'gemma-2-9b',\n",
       "   'layer': '24-gemmascope-res-16k',\n",
       "   'feature_id': 3,\n",
       "   'description': ' phrases that refer to specific concepts or examples',\n",
       "   'explanationModelName': None,\n",
       "   'typeName': 'oai_token-act-pair'}],\n",
       " 4: [{'modelId': 'gemma-2-9b',\n",
       "   'layer': '24-gemmascope-res-16k',\n",
       "   'feature_id': 4,\n",
       "   'description': 'technical terms related to mathematical equations and concepts',\n",
       "   'explanationModelName': None,\n",
       "   'typeName': 'oai_token-act-pair'}],\n",
       " 5: [{'modelId': 'gemma-2-9b',\n",
       "   'layer': '24-gemmascope-res-16k',\n",
       "   'feature_id': 5,\n",
       "   'description': 'references to specific countries and regions, particularly in relation to commerce and cultural aspects',\n",
       "   'explanationModelName': None,\n",
       "   'typeName': 'oai_token-act-pair'}],\n",
       " 6: [{'modelId': 'gemma-2-9b',\n",
       "   'layer': '24-gemmascope-res-16k',\n",
       "   'feature_id': 6,\n",
       "   'description': ' terms and concepts related to passive and active processes or states',\n",
       "   'explanationModelName': None,\n",
       "   'typeName': 'oai_token-act-pair'}],\n",
       " 7: [{'modelId': 'gemma-2-9b',\n",
       "   'layer': '24-gemmascope-res-16k',\n",
       "   'feature_id': 7,\n",
       "   'description': ' monetary symbols and related code syntax',\n",
       "   'explanationModelName': None,\n",
       "   'typeName': 'oai_token-act-pair'}],\n",
       " 8: [{'modelId': 'gemma-2-9b',\n",
       "   'layer': '24-gemmascope-res-16k',\n",
       "   'feature_id': 8,\n",
       "   'description': 'structured information and references related to data, such as cases, observations, and features in various contexts',\n",
       "   'explanationModelName': None,\n",
       "   'typeName': 'oai_token-act-pair'}],\n",
       " 9: [{'modelId': 'gemma-2-9b',\n",
       "   'layer': '24-gemmascope-res-16k',\n",
       "   'feature_id': 9,\n",
       "   'description': 'regulatory language related to occupational safety and health',\n",
       "   'explanationModelName': None,\n",
       "   'typeName': 'oai_token-act-pair'}]}"
      ]
     },
     "execution_count": 3,
     "metadata": {},
     "output_type": "execute_result"
    }
   ],
   "source": [
    "get_feature_description(modelId=modelId, saeId=saeId, position_ids=[0, 1, 2, 3, 4, 5, 6, 7, 8, 9], save_path=f\"neuronpedia_description_{modelId}_{saeId}.json\")"
   ]
  }
 ],
 "metadata": {
  "kernelspec": {
   "display_name": "EasySteer",
   "language": "python",
   "name": "python3"
  },
  "language_info": {
   "codemirror_mode": {
    "name": "ipython",
    "version": 3
   },
   "file_extension": ".py",
   "mimetype": "text/x-python",
   "name": "python",
   "nbconvert_exporter": "python",
   "pygments_lexer": "ipython3",
   "version": "3.10.16"
  }
 },
 "nbformat": 4,
 "nbformat_minor": 2
}
